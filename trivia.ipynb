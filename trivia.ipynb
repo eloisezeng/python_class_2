{
 "cells": [
  {
   "cell_type": "markdown",
   "id": "starting-peter",
   "metadata": {},
   "source": [
    "# Create a Trivia game\n",
    "<ul style='font-size:1.2rem;line-height:1.5'>\n",
    "    <li>Ask the user to input answers to at least five questions</li> \n",
    "    <li>Store their inputs in variables. </li>\n",
    "    <li>Print the number of questions the user answered correctly</li>\n",
    "</ul>\n",
    "\n",
    "## You may use: \n",
    "- **input function** <br>\n",
    "```python\n",
    "age = input(\"How old are you?\")\n",
    "print(\"You are \" + str(age) + \" years old\")\n",
    "```\n",
    "```raw \n",
    "How old are you? 21\n",
    "You are 21 years old.\n",
    "``` \n",
    "<br>\n",
    "- **print function**\n",
    "```python\n",
    ">>> print(\"Hi.\")\n",
    "Hi.\n",
    "```\n",
    "<br>\n",
    "- **concatenation (adding strings together)**\n",
    "```python\n",
    ">>> animal = \"bird\"\n",
    ">>> print(\"Big \" + animal)\n",
    "Big bird\n",
    "``` \n",
    "<br>\n",
    "- **escape characters**\n",
    "<code>\"\\n\"</code>, <code>\"\\t\"</code>, <code>\"\\\\\"\"</code>, <code>\"\\\\'\"</code>"
   ]
  },
  {
   "cell_type": "code",
   "execution_count": null,
   "id": "streaming-tolerance",
   "metadata": {},
   "outputs": [],
   "source": []
  }
 ],
 "metadata": {
  "kernelspec": {
   "display_name": "Python 3",
   "language": "python",
   "name": "python3"
  },
  "language_info": {
   "codemirror_mode": {
    "name": "ipython",
    "version": 3
   },
   "file_extension": ".py",
   "mimetype": "text/x-python",
   "name": "python",
   "nbconvert_exporter": "python",
   "pygments_lexer": "ipython3",
   "version": "3.7.4"
  }
 },
 "nbformat": 4,
 "nbformat_minor": 5
}
