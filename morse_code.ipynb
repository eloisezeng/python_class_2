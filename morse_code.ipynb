{
 "cells": [
  {
   "cell_type": "markdown",
   "id": "western-fiber",
   "metadata": {},
   "source": [
    "# Write a function that turns a string into Morse Code\n",
    "<img src='https://i.pinimg.com/originals/30/f1/9d/30f19d18c8c949f4b87a7c91d8f6d2c4.jpg'>"
   ]
  },
  {
   "cell_type": "code",
   "execution_count": null,
   "id": "satisfied-banner",
   "metadata": {},
   "outputs": [],
   "source": [
    "# Code here\n"
   ]
  },
  {
   "cell_type": "markdown",
   "id": "synthetic-mobile",
   "metadata": {},
   "source": [
    "# Write a function that turns Morse Code into a string"
   ]
  },
  {
   "cell_type": "code",
   "execution_count": null,
   "id": "horizontal-prince",
   "metadata": {},
   "outputs": [],
   "source": [
    "# Code here\n"
   ]
  }
 ],
 "metadata": {
  "kernelspec": {
   "display_name": "Python 3",
   "language": "python",
   "name": "python3"
  },
  "language_info": {
   "codemirror_mode": {
    "name": "ipython",
    "version": 3
   },
   "file_extension": ".py",
   "mimetype": "text/x-python",
   "name": "python",
   "nbconvert_exporter": "python",
   "pygments_lexer": "ipython3",
   "version": "3.7.4"
  }
 },
 "nbformat": 4,
 "nbformat_minor": 5
}
