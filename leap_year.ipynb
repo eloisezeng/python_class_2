{
 "cells": [
  {
   "cell_type": "markdown",
   "id": "explicit-anger",
   "metadata": {},
   "source": [
    "# Is it a Leap Year?\n",
    "An extra day is added to the calendar almost every four years as February 29, and the day is called a leap day. It corrects the calendar for the fact that our planet takes approximately 365.25 days to orbit the sun. A leap year contains a leap day.\n",
    "\n",
    "In the Gregorian calendar, three conditions are used to identify leap years:\n",
    "\n",
    "- The year can be evenly divided by 4, it is a leap year, unless:\n",
    "    - The year can be evenly divided by 100, it is NOT a leap year, unless:\n",
    "        - The year is also evenly divisible by 400. Then it is a leap year.\n",
    "This means that in the Gregorian calendar, the years 2000 and 2400 are leap years, while 1800, 1900, 2100, 2200, 2300 and 2500 are NOT leap years.\n",
    "\n",
    "### Task\n",
    "\n",
    "Given a year, determine whether it is a leap year. If it is a leap year, return the Boolean True, otherwise return False.\n",
    "\n",
    "Constraints\n",
    "- we tests if this works only for years in between $1900$ and $10^5$\n",
    "\n",
    "Examples\n",
    "```python\n",
    ">>> is_leap_year(1990)\n",
    ">>> False\n",
    ">>> is_leap_year(2020)\n",
    ">>> True\n",
    "```\n",
    "1990 is not a multiple of 4 hence it's not a leap year."
   ]
  },
  {
   "cell_type": "code",
   "execution_count": null,
   "id": "distinguished-protocol",
   "metadata": {},
   "outputs": [],
   "source": []
  }
 ],
 "metadata": {
  "kernelspec": {
   "display_name": "Python 3",
   "language": "python",
   "name": "python3"
  },
  "language_info": {
   "codemirror_mode": {
    "name": "ipython",
    "version": 3
   },
   "file_extension": ".py",
   "mimetype": "text/x-python",
   "name": "python",
   "nbconvert_exporter": "python",
   "pygments_lexer": "ipython3",
   "version": "3.7.4"
  }
 },
 "nbformat": 4,
 "nbformat_minor": 5
}
