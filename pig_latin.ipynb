{
 "cells": [
  {
   "cell_type": "markdown",
   "id": "integral-commission",
   "metadata": {},
   "source": [
    "# Pig Latin\n",
    "\n",
    "### Write a function that takes a string and translates it to pig Latin\n",
    "\n",
    "### Here are the rules of how to translate English to Pig Latin\n",
    "1. When a word begins with a consonant (such as dog) or a consonant cluster (such as brush),  take the consonant/consonant cluster and move it to the end of the word, adding the suffix ‘-ay’ to the end of the word.\n",
    "    - ‘dog’ becomes ‘og-day’\n",
    "    - ‘brush’ becomes ‘ush-bray’\n",
    "\n",
    "2. When a word begins with a vowel, simply leave the word as is and add the suffix ‘-hay’ to the end of the word. \n",
    "    - 'egg' becomes 'egg-hay'"
   ]
  },
  {
   "cell_type": "code",
   "execution_count": null,
   "id": "abroad-checklist",
   "metadata": {},
   "outputs": [],
   "source": []
  }
 ],
 "metadata": {
  "kernelspec": {
   "display_name": "Python 3",
   "language": "python",
   "name": "python3"
  },
  "language_info": {
   "codemirror_mode": {
    "name": "ipython",
    "version": 3
   },
   "file_extension": ".py",
   "mimetype": "text/x-python",
   "name": "python",
   "nbconvert_exporter": "python",
   "pygments_lexer": "ipython3",
   "version": "3.7.4"
  }
 },
 "nbformat": 4,
 "nbformat_minor": 5
}
