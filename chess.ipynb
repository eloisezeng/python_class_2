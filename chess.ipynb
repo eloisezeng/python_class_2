{
 "cells": [
  {
   "cell_type": "markdown",
   "metadata": {},
   "source": [
    "# Chess puzzles with Functions"
   ]
  },
  {
   "cell_type": "markdown",
   "metadata": {},
   "source": [
    "<p style='font-size:1.2rem;line-height:1.5'>\n",
    "Let's use this type of chessboard. <br> The position of a chess piece is specified by the row number and the column number.\n",
    "    </p>"
   ]
  },
  {
   "cell_type": "markdown",
   "metadata": {},
   "source": [
    "<div> <img src=\"https://www.redgreencode.com/wp-content/uploads/2016/02/ChessBoard_Solution3Rotation90.png\" alt=\"Drawing\" style=\"width: 1500;\"/> </div>"
   ]
  },
  {
   "cell_type": "markdown",
   "metadata": {},
   "source": [
    "<p style='font-size:1.5rem;line-height:1.5'>\n",
    "You can use the abs() function if you would like. It will simplify your code! <br>\n",
    "abs() stands for absolute value. The absolute value of a number is its distance from zero. <br>\n",
    "    </p>"
   ]
  },
  {
   "cell_type": "code",
   "execution_count": null,
   "metadata": {},
   "outputs": [],
   "source": [
    "abs(-5) # What do you think this should output?"
   ]
  },
  {
   "cell_type": "code",
   "execution_count": null,
   "metadata": {},
   "outputs": [],
   "source": [
    "abs(7) # What do you think this should output?"
   ]
  },
  {
   "cell_type": "code",
   "execution_count": null,
   "metadata": {},
   "outputs": [],
   "source": [
    "abs(3-2) # What do you think this should output?"
   ]
  },
  {
   "cell_type": "code",
   "execution_count": null,
   "metadata": {},
   "outputs": [],
   "source": [
    "abs(2-3) # What do you think this should output?"
   ]
  },
  {
   "cell_type": "markdown",
   "metadata": {},
   "source": [
    "<p style='font-size:1.5rem;line-height:1.5'>\n",
    "Remember to surround long lines with parentheses () <br> Example of a very long if statement:\n",
    "    </p>"
   ]
  },
  {
   "cell_type": "code",
   "execution_count": null,
   "metadata": {},
   "outputs": [],
   "source": [
    "# Don't do this\n",
    "num = 3\n",
    "word = 'very'\n",
    "if num > 2 and word == 'very' or num < 0 and word == 'long' or num == 3 and word == 'line' and word == 'please surround with parenthesis':\n",
    "    print(\"Done\")"
   ]
  },
  {
   "cell_type": "code",
   "execution_count": null,
   "metadata": {},
   "outputs": [],
   "source": [
    "# Surround the long if statement!\n",
    "num = 3\n",
    "word = 'very'\n",
    "if (num > 2 and word == 'very' or num < 0 and \n",
    "    word == 'long' or num == 3 and word == 'line' and\n",
    "    word == 'please surround with parenthesis'):\n",
    "    print(\"Done\")"
   ]
  },
  {
   "cell_type": "markdown",
   "metadata": {},
   "source": [
    "# Valid Rook Move"
   ]
  },
  {
   "cell_type": "markdown",
   "metadata": {},
   "source": [
    "<p style='font-size:1.2rem;line-height:1.5'>\n",
    "- The rook moves horizontally or vertically. <br>\n",
    "- Given two different positions (cells) on the chessboard, determine if a rook can go from the first cell to the second in one move. <br>\n",
    "- Output \"YES\" if the rook can go from the first cell to the second in one move <br>\n",
    "- Output \"NO\" otherwise. <br>\n",
    "* Use numbers to specify the columns instead of letters (look at the bottom right image)\n",
    "    </p>"
   ]
  },
  {
   "cell_type": "markdown",
   "metadata": {},
   "source": [
    "<table><tr>\n",
    "<td> <img src=\"https://chessandfun.com/wp-content/uploads/2014/02/How-Rook-Moves.jpg\" alt=\"Drawing\" style=\"width: 250px;\"/> </td>\n",
    "<td> <img src=\"https://www.redgreencode.com/wp-content/uploads/2016/02/ChessBoard_Solution3Rotation90.png\" alt=\"Drawing\" style=\"width: 250px;\"/> </td>\n",
    "</tr></table>"
   ]
  },
  {
   "cell_type": "code",
   "execution_count": 6,
   "metadata": {},
   "outputs": [],
   "source": [
    "# The variables row and column store the position of the rook\n",
    "# The variables new_row and new_column store a new position for the rook\n",
    "\n",
    "def rook_move(row, column, new_row, new_column):\n",
    "    # Write code here\n",
    "    \n",
    "rook_move(1, 2, 3, 2) # This function should return \"YES\"\n",
    "# rook_move(1, 1, 2, 2) # This function should return \"NO\""
   ]
  },
  {
   "cell_type": "markdown",
   "metadata": {},
   "source": [
    "# Valid Bishop Move"
   ]
  },
  {
   "cell_type": "markdown",
   "metadata": {},
   "source": [
    "<p style='font-size:1.2rem;line-height:1.5'>\n",
    "- The bishop moves diagonally. <br>\n",
    "- Given two different cells on the chessboard, determine if the bishop can go from the first cell to the second in one move. <br>\n",
    "- Output \"YES\" if the bishop can go from the first cell to the second in one move <br>\n",
    "- Output \"NO\" otherwise. <br>\n",
    "* Use numbers to specify the columns instead of letters\n",
    "    </p>"
   ]
  },
  {
   "cell_type": "markdown",
   "metadata": {},
   "source": [
    "<table><tr>\n",
    "<td> <img src=\"https://snakify.org/static/images/problems/bishop_move.png\" alt=\"Drawing\" style=\"width: 250px;\"/> </td>\n",
    "<td> <img src=\"https://www.redgreencode.com/wp-content/uploads/2016/02/ChessBoard_Solution3Rotation90.png\" alt=\"Drawing\" style=\"width: 250px;\"/> </td>\n",
    "</tr></table>"
   ]
  },
  {
   "cell_type": "code",
   "execution_count": 2,
   "metadata": {},
   "outputs": [],
   "source": [
    "# The variables row and column store the position of the bishop\n",
    "# The variables new_row and new_column store a new position for the bishop\n",
    "\n",
    "def bishop_move(row, column, new_row, new_column):\n",
    "    # Write code here\n",
    "    \n",
    "bishop_move(1, 1, 3, 3) # This function should return \"YES\"\n",
    "# bishop_move(1, 1, 1, 3) # This function should return \"NO\""
   ]
  },
  {
   "cell_type": "markdown",
   "metadata": {},
   "source": [
    "Hint: Click on the dots"
   ]
  },
  {
   "cell_type": "markdown",
   "metadata": {},
   "source": [
    "Think of two positions on the chessboard. <br>\n",
    "What is the distance between row and new_row? What is the distance between column and new_column? Can the bishop move between the positions in one move?"
   ]
  },
  {
   "cell_type": "markdown",
   "metadata": {},
   "source": [
    "# Valid King Move"
   ]
  },
  {
   "cell_type": "markdown",
   "metadata": {},
   "source": [
    "<p style='font-size:1.2rem;line-height:1.5'>\n",
    "- The king moves horizontally, vertically or diagonally to any adjacent cell. <br>\n",
    "- Given two different cells on the chessboard, determine if the king can go from the first cell to the second in one move. <br>\n",
    "- Output \"YES\" if the king can go from the first cell to the second in one move <br>\n",
    "- Output \"NO\" otherwise. <br>\n",
    "* Use numbers to specify the columns instead of letters\n",
    "    </p>"
   ]
  },
  {
   "cell_type": "markdown",
   "metadata": {},
   "source": [
    "<table><tr>\n",
    "<td> <img src=\"https://i.stack.imgur.com/rUiHI.gif\" alt=\"Drawing\" style=\"width: 250px;\"/> </td>\n",
    "<td> <img src=\"https://www.redgreencode.com/wp-content/uploads/2016/02/ChessBoard_Solution3Rotation90.png\" alt=\"Drawing\" style=\"width: 250px;\"/> </td>\n",
    "</tr></table>"
   ]
  },
  {
   "cell_type": "code",
   "execution_count": 3,
   "metadata": {},
   "outputs": [],
   "source": [
    "# The variables row and column store the position of the king\n",
    "# The variables new_row and new_column store a new position for the king\n",
    "\n",
    "def king_move(row, column, new_row, new_column):\n",
    "    # Write code here\n",
    "    \n",
    "king_move(1, 1, 2, 2) # This function should return \"YES\"\n",
    "# king_move(1, 1, 3, 3) # This function should return \"NO\""
   ]
  },
  {
   "cell_type": "markdown",
   "metadata": {},
   "source": [
    "# Valid Queen Move"
   ]
  },
  {
   "cell_type": "markdown",
   "metadata": {},
   "source": [
    "<p style='font-size:1.2rem;line-height:1.5'>\n",
    "- Chess queen moves horizontally, vertically or diagonally to any number of cells.  <br>\n",
    "- Given two different cells on the chessboard, determine if the king can go from the first cell to the second in one move. <br>\n",
    "- Output \"YES\" if the king can go from the first cell to the second in one move <br>\n",
    "- Output \"NO\" otherwise. <br>\n",
    "* Use numbers to specify the columns instead of letters\n",
    "    </p>"
   ]
  },
  {
   "attachments": {
    "queen_move.png": {
     "image/png": "[encoded data removed]"
    }
   },
   "cell_type": "markdown",
   "metadata": {},
   "source": [
    "<table><tr>\n",
    "<td> <img src=\"https://snakify.org/static/images/problems/queen_move.png\" alt=\"Drawing\" style=\"width: 250px;\"/> </td>\n",
    "<td> <img src=\"https://www.redgreencode.com/wp-content/uploads/2016/02/ChessBoard_Solution3Rotation90.png\" alt=\"Drawing\" style=\"width: 250px;\"/> </td>\n",
    "</tr></table>"
   ]
  },
  {
   "cell_type": "code",
   "execution_count": 4,
   "metadata": {},
   "outputs": [],
   "source": [
    "# The variables row and column store the position of the queen\n",
    "# The variables new_row and new_column store a new position for the queen\n",
    "\n",
    "def queen_move(row, column, new_row, new_column):\n",
    "    # Write code here\n",
    "    \n",
    "queen_move(1, 1, 2, 2) # This function should return \"YES\"\n",
    "# queen_move(1, 1, 2, 3) # This function should return \"NO\""
   ]
  },
  {
   "cell_type": "markdown",
   "metadata": {},
   "source": [
    "Hint:"
   ]
  },
  {
   "cell_type": "markdown",
   "metadata": {},
   "source": [
    "The queen seems like a combination of a rook and a bishop..."
   ]
  },
  {
   "cell_type": "markdown",
   "metadata": {},
   "source": [
    "# Valid Knight Move"
   ]
  },
  {
   "cell_type": "markdown",
   "metadata": {},
   "source": [
    "<p style='font-size:1.2rem;line-height:1.5'>\n",
    "- Chess knight moves like the letter L. <br>\n",
    "- It can move two cells horizontally and one cell vertically, or two cells vertically and one cells horizontally.  <br>\n",
    "- Given two different cells on the chessboard, determine if the king can go from the first cell to the second in one move. <br>\n",
    "- Output \"YES\" if the king can go from the first cell to the second in one move <br>\n",
    "- Output \"NO\" otherwise. <br>\n",
    "* Use numbers to specify the columns instead of letters\n",
    "    </p>"
   ]
  },
  {
   "cell_type": "markdown",
   "metadata": {},
   "source": [
    "<table><tr>\n",
    "<td> <img src=\"https://qph.fs.quoracdn.net/main-qimg-871c9c93cc764d00e52e181aa5d8e3b3\" alt=\"Drawing\" style=\"width: 250px;\"/> </td>\n",
    "<td> <img src=\"https://www.redgreencode.com/wp-content/uploads/2016/02/ChessBoard_Solution3Rotation90.png\" alt=\"Drawing\" style=\"width: 250px;\"/> </td>\n",
    "</tr></table>"
   ]
  },
  {
   "cell_type": "code",
   "execution_count": 5,
   "metadata": {},
   "outputs": [],
   "source": [
    "# The variables row and column store the position of the knight\n",
    "# The variables new_row and new_column store a new position for the knight\n",
    "\n",
    "def knight_move(row, column, new_row, new_column):\n",
    "    # Write code here\n",
    "    \n",
    "knight_move(1, 1, 2, 3) # This function should return \"YES\"\n",
    "# knight_move(1, 1, 3, 3) # This function should return \"NO\""
   ]
  },
  {
   "cell_type": "markdown",
   "metadata": {},
   "source": [
    "Hint:"
   ]
  },
  {
   "cell_type": "markdown",
   "metadata": {},
   "source": [
    "Think of two positions on the chessboard. <br>\n",
    "What is the distance between row and new_row? What is the distance between column and new_column? Can the knight move between the positions in one move?"
   ]
  },
  {
   "cell_type": "markdown",
   "metadata": {},
   "source": [
    "### Done!"
   ]
  }
 ],
 "metadata": {
  "kernelspec": {
   "display_name": "Python 3",
   "language": "python",
   "name": "python3"
  },
  "language_info": {
   "codemirror_mode": {
    "name": "ipython",
    "version": 3
   },
   "file_extension": ".py",
   "mimetype": "text/x-python",
   "name": "python",
   "nbconvert_exporter": "python",
   "pygments_lexer": "ipython3",
   "version": "3.7.4"
  }
 },
 "nbformat": 4,
 "nbformat_minor": 4
}
