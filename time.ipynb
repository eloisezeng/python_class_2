{
 "cells": [
  {
   "cell_type": "markdown",
   "id": "outer-sunday",
   "metadata": {},
   "source": [
    "# Time conversions\n",
    "1. Write a function named ```minutes_to_seconds``` that takes an integer ```minutes``` and converts it to ```seconds```.\n",
    "\n",
    "### Examples\n",
    "\n",
    "```python\n",
    "minutes_to_seconds(5) ➞ 300\n",
    "\n",
    "minutes_to_seconds(3) ➞ 180\n",
    "\n",
    "minutes_to_seconds(2) ➞ 120\n",
    "```"
   ]
  },
  {
   "cell_type": "code",
   "execution_count": null,
   "id": "acoustic-probe",
   "metadata": {},
   "outputs": [],
   "source": [
    "# Code here\n"
   ]
  }
 ],
 "metadata": {
  "kernelspec": {
   "display_name": "Python 3",
   "language": "python",
   "name": "python3"
  },
  "language_info": {
   "codemirror_mode": {
    "name": "ipython",
    "version": 3
   },
   "file_extension": ".py",
   "mimetype": "text/x-python",
   "name": "python",
   "nbconvert_exporter": "python",
   "pygments_lexer": "ipython3",
   "version": "3.7.4"
  }
 },
 "nbformat": 4,
 "nbformat_minor": 5
}
