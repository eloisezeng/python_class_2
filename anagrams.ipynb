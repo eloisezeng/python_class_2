{
 "cells": [
  {
   "cell_type": "markdown",
   "id": "future-train",
   "metadata": {},
   "source": [
    "# Anagrams\n",
    "Anagram: a word or phrase formed by rearranging the letters of another. \n",
    "### Examples of anagrams\n",
    "- ```'cinema'``` and ```'iceman'```\n",
    "- ```'Listen'``` and ```'silent'```\n",
    "- ```'Fourth of July'``` and ```'Joyful Fourth'```\n",
    "\n",
    "However, ```'smack'``` and ```'small'``` are not anagrams since they don't contain all of the same letters.\n",
    "\n",
    "### Write a function that checks if two strings are anagrams of each other."
   ]
  },
  {
   "cell_type": "code",
   "execution_count": null,
   "id": "israeli-lucas",
   "metadata": {},
   "outputs": [],
   "source": []
  }
 ],
 "metadata": {
  "kernelspec": {
   "display_name": "Python 3",
   "language": "python",
   "name": "python3"
  },
  "language_info": {
   "codemirror_mode": {
    "name": "ipython",
    "version": 3
   },
   "file_extension": ".py",
   "mimetype": "text/x-python",
   "name": "python",
   "nbconvert_exporter": "python",
   "pygments_lexer": "ipython3",
   "version": "3.7.4"
  }
 },
 "nbformat": 4,
 "nbformat_minor": 5
}
