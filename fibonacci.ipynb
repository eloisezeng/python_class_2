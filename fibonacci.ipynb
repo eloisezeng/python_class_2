{
 "cells": [
  {
   "cell_type": "markdown",
   "metadata": {},
   "source": [
    "# Fibonacci Sequence\n",
    "<p style='font-size:1.25rem;line-height:1.5'>\n",
    "    This is the Fibonacci Sequence: 0, 1, 1, 2, 3, 5, 8, 13, 21, 34, 55, 89, 144, 233, 377, 610, 987, 1597, 2584, 4181, 6765, 10946, 17711, 28657 ...\n",
    "    </p>\n",
    "<ul style='font-size:1.25rem;line-height:1.5'>\n",
    "    <li>The next number is found by adding up the two numbers before it. </li>\n",
    "    <li>0 + 1 = 1 </li>\n",
    "    <li>1 + 1 = 2 </li>\n",
    "    <li>1 + 2 = 3 </li>\n",
    "    <li>2 + 3 = 5 </li>\n",
    "</ul>\n",
    "<p style='font-size:1.25rem;line-height:1.5'>\n",
    "    Write a function that takes in an argument, <code>x</code>, and lists the first <code>x</code> fibonacci numbers\n",
    "    </p>\n",
    "\n",
    "### Examples:\n",
    "\n",
    "```python\n",
    ">>> fibonacci(1)\n",
    "0\n",
    "\n",
    ">>> fibonacci(2)\n",
    "0\n",
    "1\n",
    "\n",
    ">>> fibonacci(5)\n",
    "0\n",
    "1\n",
    "1\n",
    "2\n",
    "3\n",
    "```"
   ]
  },
  {
   "cell_type": "code",
   "execution_count": 1,
   "metadata": {},
   "outputs": [],
   "source": [
    "def fibonacci(x):\n",
    "    pass"
   ]
  },
  {
   "cell_type": "code",
   "execution_count": null,
   "metadata": {},
   "outputs": [],
   "source": []
  }
 ],
 "metadata": {
  "kernelspec": {
   "display_name": "Python 3",
   "language": "python",
   "name": "python3"
  },
  "language_info": {
   "codemirror_mode": {
    "name": "ipython",
    "version": 3
   },
   "file_extension": ".py",
   "mimetype": "text/x-python",
   "name": "python",
   "nbconvert_exporter": "python",
   "pygments_lexer": "ipython3",
   "version": "3.7.4"
  }
 },
 "nbformat": 4,
 "nbformat_minor": 4
}
