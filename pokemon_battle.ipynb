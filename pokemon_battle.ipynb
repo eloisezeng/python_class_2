{
 "cells": [
  {
   "cell_type": "markdown",
   "id": "sophisticated-tulsa",
   "metadata": {},
   "source": [
    "# Create a pokemon battle\n",
    "Store your pokemon's health in a variable. Store the enemy's health in a variable.\n",
    "```python\n",
    "pikachu = 100\n",
    "mewtwo = 100\n",
    "```"
   ]
  },
  {
   "cell_type": "markdown",
   "id": "laden-dubai",
   "metadata": {},
   "source": [
    "In each round, let the user determine whether they want to increase their health by a random number between ```0```-```100``` or attack the enemy. The amount of damage from an attack is a random number between ```0``` to ```100```.\n",
    "\n",
    "Below, is how to generate a random number in between ```0``` and ```9```"
   ]
  },
  {
   "cell_type": "code",
   "execution_count": null,
   "id": "herbal-defensive",
   "metadata": {},
   "outputs": [],
   "source": [
    "from random import randrange # import the function `randrange` from the library called `random`\n",
    "x = randrange(0, 10) # x equals a RANDom number in the RANGE of 0 to 9 (10 is excluded from the range)\n",
    "print(x)"
   ]
  },
  {
   "cell_type": "markdown",
   "id": "continuing-geometry",
   "metadata": {},
   "source": [
    "Here's what a game might look like\n",
    "```python\n",
    ">>> pikachu = 100\n",
    ">>> mewtwo = 100\n",
    ">>> choice = input(\"Do you want to heal yourself or attack?\")\n",
    "attack\n",
    "You have a health of 100\n",
    "Your enemy has a health of 100 - 20 = 80\n",
    "\n",
    "Your enemy attacked you!\n",
    "You have a health of 100 - 90 = 10.\n",
    "Your enemy has a health of 80\n",
    ">>> choice = input(\"Do you want to increase your health by +10 or attack?\")\n",
    "heal\n",
    "You have a health of 60\n",
    "Your enemy has a health of 80\n",
    "\n",
    "Your enemy healed themselves!\n",
    "You have a health of 60\n",
    "Your enemy has a health of 100\n",
    ">>> choice = input(\"Do you want to increase your health by +10 or attack?\")\n",
    "```\n",
    "\n",
    "Now you try!"
   ]
  },
  {
   "cell_type": "code",
   "execution_count": null,
   "id": "danish-guarantee",
   "metadata": {},
   "outputs": [],
   "source": []
  }
 ],
 "metadata": {
  "kernelspec": {
   "display_name": "Python 3",
   "language": "python",
   "name": "python3"
  },
  "language_info": {
   "codemirror_mode": {
    "name": "ipython",
    "version": 3
   },
   "file_extension": ".py",
   "mimetype": "text/x-python",
   "name": "python",
   "nbconvert_exporter": "python",
   "pygments_lexer": "ipython3",
   "version": "3.7.4"
  }
 },
 "nbformat": 4,
 "nbformat_minor": 5
}
