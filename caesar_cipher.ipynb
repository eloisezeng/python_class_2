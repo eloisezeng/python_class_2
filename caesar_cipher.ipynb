{
 "cells": [
  {
   "cell_type": "markdown",
   "metadata": {},
   "source": [
    "# Caesar Cipher\n",
    "<p style='font-size:1.25rem;line-height:1.5'>Goal: Write a program that encrypts a string.\n",
    "</p>"
   ]
  },
  {
   "cell_type": "markdown",
   "metadata": {},
   "source": [
    "```raw\n",
    "key: 1\n",
    "plaintext:  hello\n",
    "ciphertext: ifmmp\n",
    "```\n",
    "<p style='font-size:1.25rem;line-height:1.5'>Here’s how encrypting 'hello' with a key of 1 makes 'ifmmp':</p>"
   ]
  },
  {
   "cell_type": "code",
   "execution_count": 1,
   "metadata": {
    "jupyter": {
     "source_hidden": true
    }
   },
   "outputs": [
    {
     "data": {
      "text/html": [
       "\n",
       "<style>\n",
       "table {float:left}\n",
       "</style>\n"
      ],
      "text/plain": [
       "<IPython.core.display.HTML object>"
      ]
     },
     "metadata": {},
     "output_type": "display_data"
    }
   ],
   "source": [
    "%%html\n",
    "\n",
    "<style>\n",
    "table {float:left}\n",
    "</style>"
   ]
  },
  {
   "cell_type": "markdown",
   "metadata": {},
   "source": [
    "| Plaintext | h | e | l | l | o |\n",
    "|---|---|---|---|---|---|\n",
    "| + key | 1 | 1 | 1 | 1 | 1 |\n",
    "| = ciphertext| i | f | m | m | p |"
   ]
  },
  {
   "cell_type": "markdown",
   "metadata": {},
   "source": [
    "<p style='font-size:1.25rem;line-height:1.5'>But how can we add strings and numbers? This gives us an error.\n",
    "    <ul style='font-size:1.25rem;line-height:1.5'>\n",
    "        <li><code>'h' + 1 = 'i'</code></li>\n",
    "        <li><code>'e' + 1 = 'f'</code></li>\n",
    "        <li><code>'l' + 1 = 'm'</code></li>\n",
    "        <li><code>'l' + 1 = 'm'</code></li>\n",
    "        <li><code>'o' + 1 = 'p'</code></li>\n",
    "    </ul>\n",
    "</p>"
   ]
  },
  {
   "cell_type": "markdown",
   "metadata": {},
   "source": [
    "<p style='font-size:1.25rem;line-height:1.5'>Use Ascii (pronounced askee) <br>It is a code for representing characters as numbers. <br> The <code>ord()</code> function converts a <b>single</b> character to a number.\n",
    "</p>"
   ]
  },
  {
   "cell_type": "code",
   "execution_count": null,
   "metadata": {},
   "outputs": [],
   "source": [
    "character = 'a'\n",
    "ord(character)"
   ]
  },
  {
   "cell_type": "code",
   "execution_count": null,
   "metadata": {},
   "outputs": [],
   "source": [
    "character = 'z'\n",
    "ord(character)"
   ]
  },
  {
   "cell_type": "code",
   "execution_count": null,
   "metadata": {},
   "outputs": [],
   "source": [
    "character = '你' # Ascii codes can also convert Chinese!\n",
    "ord(character)"
   ]
  },
  {
   "cell_type": "markdown",
   "metadata": {},
   "source": [
    "<p style='font-size:1.25rem;line-height:1.5'>The <code>chr()</code> function converts the number to a character.\n",
    "</p>"
   ]
  },
  {
   "cell_type": "code",
   "execution_count": null,
   "metadata": {},
   "outputs": [],
   "source": [
    "number = 22909\n",
    "chr(number)"
   ]
  },
  {
   "cell_type": "markdown",
   "metadata": {},
   "source": [
    "<p style='font-size:1.25rem;line-height:1.5'>Your Task:\n",
    "    <ul style='font-size:1.25rem;line-height:1.5'>\n",
    "        <li>Prompt the user for a key using the <code>input()</code> function</li>\n",
    "        <li>Prompt the user for plaintext (the unencrypted string)</li>\n",
    "        <li>Print the ciphertext (the encrypted string)</li>\n",
    "        <li>Only replace letters; leaving numbers, punctuation, and whitespace alone</li>\n",
    "    </ul>\n",
    "</p>"
   ]
  },
  {
   "cell_type": "markdown",
   "metadata": {},
   "source": [
    "### Examples\n",
    "```raw\n",
    "key: 1\n",
    "plaintext:  abcde\n",
    "ciphertext: bcdef\n",
    "\n",
    "key: 13\n",
    "plaintext:  hello, world\n",
    "ciphertext: uryyb, jbeyq\n",
    "```\n"
   ]
  },
  {
   "cell_type": "code",
   "execution_count": 70,
   "metadata": {},
   "outputs": [],
   "source": [
    "# Write your code here\n",
    "\n",
    "\n"
   ]
  },
  {
   "cell_type": "markdown",
   "metadata": {},
   "source": [
    "<p style='font-size:1.25rem;line-height:1.5'>Notice: <code>'z' + 1 = 'a'</code> not <code>'{'</code> when using the caesar cipher</p>"
   ]
  }
 ],
 "metadata": {
  "kernelspec": {
   "display_name": "Python 3",
   "language": "python",
   "name": "python3"
  },
  "language_info": {
   "codemirror_mode": {
    "name": "ipython",
    "version": 3
   },
   "file_extension": ".py",
   "mimetype": "text/x-python",
   "name": "python",
   "nbconvert_exporter": "python",
   "pygments_lexer": "ipython3",
   "version": "3.7.4"
  }
 },
 "nbformat": 4,
 "nbformat_minor": 4
}
